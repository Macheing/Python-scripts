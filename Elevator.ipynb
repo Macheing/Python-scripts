{
 "cells": [
  {
   "cell_type": "markdown",
   "source": [
    "# Practice Notebook: Methods and Classes"
   ],
   "metadata": {}
  },
  {
   "cell_type": "markdown",
   "source": [
    "The code below defines an *Elevator* class. The elevator has a current floor, it also has a top and a bottom floor that are the minimum and maximum floors it can go to. Fill in the blanks to make the elevator go through the floors requested."
   ],
   "metadata": {}
  },
  {
   "cell_type": "code",
   "execution_count": 1,
   "source": [
    "class Elevator:\r\n",
    "    def __init__(self, bottom, top, current):\r\n",
    "        \"\"\"Initializes the Elevator instance.\"\"\"\r\n",
    "        self.bottom = bottom\r\n",
    "        self.top = top\r\n",
    "        self.current = current\r\n",
    "        \r\n",
    "    def up(self):\r\n",
    "        \"\"\"Makes the elevator go up one floor.\"\"\"\r\n",
    "        if self.current < self.top:\r\n",
    "            self.current +=1\r\n",
    "            \r\n",
    "        else:\r\n",
    "            self.current = self.top\r\n",
    "        pass\r\n",
    "        \r\n",
    "    def down(self):\r\n",
    "        \"\"\"Makes the elevator go down one floor.\"\"\"\r\n",
    "        if self.current > self.bottom:\r\n",
    "            self.current -= 1\r\n",
    "            \r\n",
    "        else:\r\n",
    "            self.current = self.bottom \r\n",
    "        pass\r\n",
    "    \r\n",
    "    def go_to(self, floor):\r\n",
    "        \"\"\"Makes the elevator go to the specific floor.\"\"\"\r\n",
    "        self.current = floor\r\n",
    "        \r\n",
    "    def __str__(self):\r\n",
    "        return \"Current floor {}\".format(self.current)\r\n",
    "\r\n",
    "elevator = Elevator(-1, 10, 0)"
   ],
   "outputs": [],
   "metadata": {}
  },
  {
   "cell_type": "markdown",
   "source": [
    "This class is pretty empty and doesn't do much.  To test whether your *Elevator* class is working correctly, run the code blocks below."
   ],
   "metadata": {}
  },
  {
   "cell_type": "code",
   "execution_count": 2,
   "source": [
    "elevator.up()\r\n",
    "print(elevator.current) #should output 1\r\n",
    "elevator.__str__()"
   ],
   "outputs": [
    {
     "output_type": "stream",
     "name": "stdout",
     "text": [
      "1\n"
     ]
    },
    {
     "output_type": "execute_result",
     "data": {
      "text/plain": [
       "'Current floor 1'"
      ]
     },
     "metadata": {},
     "execution_count": 2
    }
   ],
   "metadata": {}
  },
  {
   "cell_type": "code",
   "execution_count": 3,
   "source": [
    "elevator.down() \r\n",
    "print(elevator.current) #should output 0\r\n",
    "elevator.__str__()"
   ],
   "outputs": [
    {
     "output_type": "stream",
     "name": "stdout",
     "text": [
      "0\n"
     ]
    },
    {
     "output_type": "execute_result",
     "data": {
      "text/plain": [
       "'Current floor 0'"
      ]
     },
     "metadata": {},
     "execution_count": 3
    }
   ],
   "metadata": {}
  },
  {
   "cell_type": "code",
   "execution_count": 3,
   "source": [
    "elevator.go_to(10) \r\n",
    "print(elevator.current) #should output 10\r\n",
    "elevator.__str__()"
   ],
   "outputs": [
    {
     "output_type": "stream",
     "name": "stdout",
     "text": [
      "10\n"
     ]
    },
    {
     "output_type": "execute_result",
     "data": {
      "text/plain": [
       "'Current floor 10'"
      ]
     },
     "metadata": {},
     "execution_count": 3
    }
   ],
   "metadata": {}
  },
  {
   "cell_type": "markdown",
   "source": [
    "If you get a **<font color =red>NameError</font>** message, be sure to run the *Elevator* class definition code block first. If you get an **<font color =red>AttributeError</font>** message, be sure to initialize *self.current* in your *Elevator* class."
   ],
   "metadata": {}
  },
  {
   "cell_type": "markdown",
   "source": [
    "Once you've made the above methods output 1, 0 and 10, you've successfully coded the *Elevator* class and its methods. Great work!\n",
    "<br><br>\n",
    "For the up and down methods, did you take into account the top and bottom floors? Keep in mind that the elevator shouldn't go above the top floor or below the bottom floor. To check that out, try the code below and verify if it's working as expected. If it's not, then go back and modify the methods so that this code behaves correctly."
   ],
   "metadata": {}
  },
  {
   "cell_type": "code",
   "execution_count": 4,
   "source": [
    "# Go to the top floor. Try to go up, it should stay. Then go down.\r\n",
    "elevator.go_to(10)\r\n",
    "elevator.up()\r\n",
    "elevator.down()\r\n",
    "print(elevator.current) # should be 9\r\n",
    "# Go to the bottom floor. Try to go down, it should stay. Then go up.\r\n",
    "elevator.go_to(-1)\r\n",
    "elevator.down()\r\n",
    "elevator.down()\r\n",
    "elevator.up()\r\n",
    "elevator.up()\r\n",
    "print(elevator.current) # should be 1"
   ],
   "outputs": [
    {
     "output_type": "stream",
     "name": "stdout",
     "text": [
      "9\n",
      "1\n"
     ]
    }
   ],
   "metadata": {}
  },
  {
   "cell_type": "markdown",
   "source": [
    "Now add the __str__ method to your *Elevator* class definition above so that when printing the elevator using the **print( )** method, we get the current floor together with a message. For example, in the 5th floor it should say \"Current floor: 5\""
   ],
   "metadata": {}
  },
  {
   "cell_type": "code",
   "execution_count": 5,
   "source": [
    "elevator.go_to(5)\r\n",
    "print(elevator)"
   ],
   "outputs": [
    {
     "output_type": "stream",
     "name": "stdout",
     "text": [
      "Current floor 5\n"
     ]
    }
   ],
   "metadata": {}
  },
  {
   "cell_type": "markdown",
   "source": [
    "Remember, Python uses the default method, that prints the position where the object is stored in the computer’s memory.  If your output is something like: <br>\n",
    "> <__main__.Elevator object at 0x7ff6a9ff3fd0>\n",
    "\n",
    "Then you will need to add the special __str__ method, which returns the string that you want to print.  Try again until you get the desired output, \"Current floor: 5\"."
   ],
   "metadata": {}
  },
  {
   "cell_type": "markdown",
   "source": [
    "Once you have successfully produced the desired output, you are all done with this practice notebook. Awesome!"
   ],
   "metadata": {}
  }
 ],
 "metadata": {
  "kernelspec": {
   "name": "python3",
   "display_name": "Python 3.9.4 64-bit"
  },
  "language_info": {
   "codemirror_mode": {
    "name": "ipython",
    "version": 3
   },
   "file_extension": ".py",
   "mimetype": "text/x-python",
   "name": "python",
   "nbconvert_exporter": "python",
   "pygments_lexer": "ipython3",
   "version": "3.9.4"
  },
  "widgets": {
   "application/vnd.jupyter.widget-state+json": {
    "state": {},
    "version_major": 2,
    "version_minor": 0
   }
  },
  "interpreter": {
   "hash": "247ab06e135bb35fa78c5eff31b2a9a0050dcb5fb773c2631d2a29ac689eeccb"
  }
 },
 "nbformat": 4,
 "nbformat_minor": 2
}